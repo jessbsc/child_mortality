{
 "cells": [
  {
   "cell_type": "code",
   "execution_count": 1,
   "id": "a9e8b780",
   "metadata": {},
   "outputs": [],
   "source": [
    "load(url(\"https://aldebaran.eic.cefet-rj.br/data/mortality-neo/mortality_master_data_cefet.RData\"))\n"
   ]
  },
  {
   "cell_type": "code",
   "execution_count": 2,
   "id": "fd0fec3d",
   "metadata": {},
   "outputs": [
    {
     "data": {
      "text/html": [
       "<table class=\"dataframe\">\n",
       "<caption>A tibble: 6 × 36</caption>\n",
       "<thead>\n",
       "\t<tr><th></th><th scope=col>SCOPE</th><th scope=col>LOCAL_CODE</th><th scope=col>LOCAL_NAME</th><th scope=col>LOCAL_LATITUDE</th><th scope=col>LOCAL_LONGITUDE</th><th scope=col>YEAR</th><th scope=col>POPULATION</th><th scope=col>POPULATION_BIRTH</th><th scope=col>MHDI</th><th scope=col>MHDI_E</th><th scope=col>⋯</th><th scope=col>NU_DEATH_CAREPREV_CHILD</th><th scope=col>NU_DEATH_DTPREV</th><th scope=col>NU_DEATH_PROMOPREV</th><th scope=col>NU_DEATH_PNEUMONIA</th><th scope=col>MORTALITY_IID</th><th scope=col>MORTALITY_MALNUTRITION</th><th scope=col>MORTALITY_COVID19</th><th scope=col>MORTALITY_COVID19B</th><th scope=col>FL1_OUT</th><th scope=col>FL2_OUT</th></tr>\n",
       "\t<tr><th></th><th scope=col>&lt;int&gt;</th><th scope=col>&lt;int&gt;</th><th scope=col>&lt;chr&gt;</th><th scope=col>&lt;dbl&gt;</th><th scope=col>&lt;dbl&gt;</th><th scope=col>&lt;dbl&gt;</th><th scope=col>&lt;int&gt;</th><th scope=col>&lt;int&gt;</th><th scope=col>&lt;dbl&gt;</th><th scope=col>&lt;dbl&gt;</th><th scope=col>⋯</th><th scope=col>&lt;int&gt;</th><th scope=col>&lt;int&gt;</th><th scope=col>&lt;int&gt;</th><th scope=col>&lt;int&gt;</th><th scope=col>&lt;dbl&gt;</th><th scope=col>&lt;dbl&gt;</th><th scope=col>&lt;dbl&gt;</th><th scope=col>&lt;dbl&gt;</th><th scope=col>&lt;int&gt;</th><th scope=col>&lt;int&gt;</th></tr>\n",
       "</thead>\n",
       "<tbody>\n",
       "\t<tr><th scope=row>1</th><td>7</td><td>110001</td><td>Alta Floresta D'Oeste</td><td>-12.46967</td><td>-62.27448</td><td>1996</td><td>33471</td><td>778</td><td>0.329</td><td>0.112</td><td>⋯</td><td>1</td><td>2</td><td>1</td><td>0</td><td>1.285347</td><td>0.000000</td><td>0</td><td>0</td><td>0</td><td>0</td></tr>\n",
       "\t<tr><th scope=row>2</th><td>7</td><td>110001</td><td>Alta Floresta D'Oeste</td><td>-12.46967</td><td>-62.27448</td><td>1997</td><td>25009</td><td>587</td><td>0.329</td><td>0.112</td><td>⋯</td><td>3</td><td>1</td><td>1</td><td>0</td><td>0.000000</td><td>1.703578</td><td>0</td><td>0</td><td>0</td><td>0</td></tr>\n",
       "\t<tr><th scope=row>3</th><td>7</td><td>110001</td><td>Alta Floresta D'Oeste</td><td>-12.46967</td><td>-62.27448</td><td>1998</td><td>24793</td><td>591</td><td>0.329</td><td>0.112</td><td>⋯</td><td>5</td><td>3</td><td>2</td><td>2</td><td>3.384095</td><td>0.000000</td><td>0</td><td>0</td><td>0</td><td>0</td></tr>\n",
       "\t<tr><th scope=row>4</th><td>7</td><td>110001</td><td>Alta Floresta D'Oeste</td><td>-12.46967</td><td>-62.27448</td><td>1999</td><td>25025</td><td>689</td><td>0.329</td><td>0.112</td><td>⋯</td><td>9</td><td>6</td><td>1</td><td>2</td><td>1.451379</td><td>0.000000</td><td>0</td><td>0</td><td>0</td><td>0</td></tr>\n",
       "\t<tr><th scope=row>5</th><td>7</td><td>110001</td><td>Alta Floresta D'Oeste</td><td>-12.46967</td><td>-62.27448</td><td>2000</td><td>26533</td><td>617</td><td>0.483</td><td>0.262</td><td>⋯</td><td>2</td><td>2</td><td>0</td><td>0</td><td>0.000000</td><td>0.000000</td><td>0</td><td>0</td><td>0</td><td>0</td></tr>\n",
       "\t<tr><th scope=row>6</th><td>7</td><td>110001</td><td>Alta Floresta D'Oeste</td><td>-12.46967</td><td>-62.27448</td><td>2001</td><td>26919</td><td>721</td><td>0.483</td><td>0.262</td><td>⋯</td><td>1</td><td>1</td><td>2</td><td>0</td><td>1.386963</td><td>1.386963</td><td>0</td><td>0</td><td>0</td><td>0</td></tr>\n",
       "</tbody>\n",
       "</table>\n"
      ],
      "text/latex": [
       "A tibble: 6 × 36\n",
       "\\begin{tabular}{r|lllllllllllllllllllll}\n",
       "  & SCOPE & LOCAL\\_CODE & LOCAL\\_NAME & LOCAL\\_LATITUDE & LOCAL\\_LONGITUDE & YEAR & POPULATION & POPULATION\\_BIRTH & MHDI & MHDI\\_E & ⋯ & NU\\_DEATH\\_CAREPREV\\_CHILD & NU\\_DEATH\\_DTPREV & NU\\_DEATH\\_PROMOPREV & NU\\_DEATH\\_PNEUMONIA & MORTALITY\\_IID & MORTALITY\\_MALNUTRITION & MORTALITY\\_COVID19 & MORTALITY\\_COVID19B & FL1\\_OUT & FL2\\_OUT\\\\\n",
       "  & <int> & <int> & <chr> & <dbl> & <dbl> & <dbl> & <int> & <int> & <dbl> & <dbl> & ⋯ & <int> & <int> & <int> & <int> & <dbl> & <dbl> & <dbl> & <dbl> & <int> & <int>\\\\\n",
       "\\hline\n",
       "\t1 & 7 & 110001 & Alta Floresta D'Oeste & -12.46967 & -62.27448 & 1996 & 33471 & 778 & 0.329 & 0.112 & ⋯ & 1 & 2 & 1 & 0 & 1.285347 & 0.000000 & 0 & 0 & 0 & 0\\\\\n",
       "\t2 & 7 & 110001 & Alta Floresta D'Oeste & -12.46967 & -62.27448 & 1997 & 25009 & 587 & 0.329 & 0.112 & ⋯ & 3 & 1 & 1 & 0 & 0.000000 & 1.703578 & 0 & 0 & 0 & 0\\\\\n",
       "\t3 & 7 & 110001 & Alta Floresta D'Oeste & -12.46967 & -62.27448 & 1998 & 24793 & 591 & 0.329 & 0.112 & ⋯ & 5 & 3 & 2 & 2 & 3.384095 & 0.000000 & 0 & 0 & 0 & 0\\\\\n",
       "\t4 & 7 & 110001 & Alta Floresta D'Oeste & -12.46967 & -62.27448 & 1999 & 25025 & 689 & 0.329 & 0.112 & ⋯ & 9 & 6 & 1 & 2 & 1.451379 & 0.000000 & 0 & 0 & 0 & 0\\\\\n",
       "\t5 & 7 & 110001 & Alta Floresta D'Oeste & -12.46967 & -62.27448 & 2000 & 26533 & 617 & 0.483 & 0.262 & ⋯ & 2 & 2 & 0 & 0 & 0.000000 & 0.000000 & 0 & 0 & 0 & 0\\\\\n",
       "\t6 & 7 & 110001 & Alta Floresta D'Oeste & -12.46967 & -62.27448 & 2001 & 26919 & 721 & 0.483 & 0.262 & ⋯ & 1 & 1 & 2 & 0 & 1.386963 & 1.386963 & 0 & 0 & 0 & 0\\\\\n",
       "\\end{tabular}\n"
      ],
      "text/markdown": [
       "\n",
       "A tibble: 6 × 36\n",
       "\n",
       "| <!--/--> | SCOPE &lt;int&gt; | LOCAL_CODE &lt;int&gt; | LOCAL_NAME &lt;chr&gt; | LOCAL_LATITUDE &lt;dbl&gt; | LOCAL_LONGITUDE &lt;dbl&gt; | YEAR &lt;dbl&gt; | POPULATION &lt;int&gt; | POPULATION_BIRTH &lt;int&gt; | MHDI &lt;dbl&gt; | MHDI_E &lt;dbl&gt; | ⋯ ⋯ | NU_DEATH_CAREPREV_CHILD &lt;int&gt; | NU_DEATH_DTPREV &lt;int&gt; | NU_DEATH_PROMOPREV &lt;int&gt; | NU_DEATH_PNEUMONIA &lt;int&gt; | MORTALITY_IID &lt;dbl&gt; | MORTALITY_MALNUTRITION &lt;dbl&gt; | MORTALITY_COVID19 &lt;dbl&gt; | MORTALITY_COVID19B &lt;dbl&gt; | FL1_OUT &lt;int&gt; | FL2_OUT &lt;int&gt; |\n",
       "|---|---|---|---|---|---|---|---|---|---|---|---|---|---|---|---|---|---|---|---|---|---|\n",
       "| 1 | 7 | 110001 | Alta Floresta D'Oeste | -12.46967 | -62.27448 | 1996 | 33471 | 778 | 0.329 | 0.112 | ⋯ | 1 | 2 | 1 | 0 | 1.285347 | 0.000000 | 0 | 0 | 0 | 0 |\n",
       "| 2 | 7 | 110001 | Alta Floresta D'Oeste | -12.46967 | -62.27448 | 1997 | 25009 | 587 | 0.329 | 0.112 | ⋯ | 3 | 1 | 1 | 0 | 0.000000 | 1.703578 | 0 | 0 | 0 | 0 |\n",
       "| 3 | 7 | 110001 | Alta Floresta D'Oeste | -12.46967 | -62.27448 | 1998 | 24793 | 591 | 0.329 | 0.112 | ⋯ | 5 | 3 | 2 | 2 | 3.384095 | 0.000000 | 0 | 0 | 0 | 0 |\n",
       "| 4 | 7 | 110001 | Alta Floresta D'Oeste | -12.46967 | -62.27448 | 1999 | 25025 | 689 | 0.329 | 0.112 | ⋯ | 9 | 6 | 1 | 2 | 1.451379 | 0.000000 | 0 | 0 | 0 | 0 |\n",
       "| 5 | 7 | 110001 | Alta Floresta D'Oeste | -12.46967 | -62.27448 | 2000 | 26533 | 617 | 0.483 | 0.262 | ⋯ | 2 | 2 | 0 | 0 | 0.000000 | 0.000000 | 0 | 0 | 0 | 0 |\n",
       "| 6 | 7 | 110001 | Alta Floresta D'Oeste | -12.46967 | -62.27448 | 2001 | 26919 | 721 | 0.483 | 0.262 | ⋯ | 1 | 1 | 2 | 0 | 1.386963 | 1.386963 | 0 | 0 | 0 | 0 |\n",
       "\n"
      ],
      "text/plain": [
       "  SCOPE LOCAL_CODE LOCAL_NAME            LOCAL_LATITUDE LOCAL_LONGITUDE YEAR\n",
       "1 7     110001     Alta Floresta D'Oeste -12.46967      -62.27448       1996\n",
       "2 7     110001     Alta Floresta D'Oeste -12.46967      -62.27448       1997\n",
       "3 7     110001     Alta Floresta D'Oeste -12.46967      -62.27448       1998\n",
       "4 7     110001     Alta Floresta D'Oeste -12.46967      -62.27448       1999\n",
       "5 7     110001     Alta Floresta D'Oeste -12.46967      -62.27448       2000\n",
       "6 7     110001     Alta Floresta D'Oeste -12.46967      -62.27448       2001\n",
       "  POPULATION POPULATION_BIRTH MHDI  MHDI_E ⋯ NU_DEATH_CAREPREV_CHILD\n",
       "1 33471      778              0.329 0.112  ⋯ 1                      \n",
       "2 25009      587              0.329 0.112  ⋯ 3                      \n",
       "3 24793      591              0.329 0.112  ⋯ 5                      \n",
       "4 25025      689              0.329 0.112  ⋯ 9                      \n",
       "5 26533      617              0.483 0.262  ⋯ 2                      \n",
       "6 26919      721              0.483 0.262  ⋯ 1                      \n",
       "  NU_DEATH_DTPREV NU_DEATH_PROMOPREV NU_DEATH_PNEUMONIA MORTALITY_IID\n",
       "1 2               1                  0                  1.285347     \n",
       "2 1               1                  0                  0.000000     \n",
       "3 3               2                  2                  3.384095     \n",
       "4 6               1                  2                  1.451379     \n",
       "5 2               0                  0                  0.000000     \n",
       "6 1               2                  0                  1.386963     \n",
       "  MORTALITY_MALNUTRITION MORTALITY_COVID19 MORTALITY_COVID19B FL1_OUT FL2_OUT\n",
       "1 0.000000               0                 0                  0       0      \n",
       "2 1.703578               0                 0                  0       0      \n",
       "3 0.000000               0                 0                  0       0      \n",
       "4 0.000000               0                 0                  0       0      \n",
       "5 0.000000               0                 0                  0       0      \n",
       "6 1.386963               0                 0                  0       0      "
      ]
     },
     "metadata": {},
     "output_type": "display_data"
    }
   ],
   "source": [
    "head(mortality_data)"
   ]
  },
  {
   "cell_type": "code",
   "execution_count": null,
   "id": "15b8177d",
   "metadata": {},
   "outputs": [],
   "source": [
    "write.csv(mortality_data, \"mortality_data.csv\")"
   ]
  }
 ],
 "metadata": {
  "kernelspec": {
   "display_name": "R",
   "language": "R",
   "name": "ir"
  },
  "language_info": {
   "codemirror_mode": "r",
   "file_extension": ".r",
   "mimetype": "text/x-r-source",
   "name": "R",
   "pygments_lexer": "r",
   "version": "4.2.1"
  }
 },
 "nbformat": 4,
 "nbformat_minor": 5
}
